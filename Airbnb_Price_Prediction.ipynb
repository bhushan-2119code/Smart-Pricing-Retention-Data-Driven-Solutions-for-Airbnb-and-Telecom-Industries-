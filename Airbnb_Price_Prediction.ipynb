{
 "cells": [
  {
   "cell_type": "code",
   "execution_count": null,
   "id": "3ebaa05d",
   "metadata": {},
   "outputs": [],
   "source": [
    "# Airbnb Price Prediction Project"
   ]
  },
  {
   "cell_type": "code",
   "execution_count": null,
   "id": "41acf118",
   "metadata": {},
   "outputs": [],
   "source": [
    "# Step 1: Import Libraries\n",
    "import pandas as pd\n",
    "import numpy as np\n",
    "import matplotlib.pyplot as plt\n",
    "import seaborn as sns\n",
    "from sklearn.model_selection import train_test_split\n",
    "from sklearn.linear_model import LinearRegression\n",
    "from sklearn.ensemble import RandomForestRegressor\n",
    "from sklearn.metrics import mean_absolute_error, mean_squared_error, r2_score\n",
    "from sklearn.preprocessing import OneHotEncoder, StandardScaler"
   ]
  },
  {
   "cell_type": "code",
   "execution_count": null,
   "id": "3672bd35",
   "metadata": {},
   "outputs": [],
   "source": [
    "# Step 2: Load the dataset\n",
    "df = pd.read_csv('Airbnb_data - airbnb_data.csv')\n",
    "print(\"Initial shape:\", df.shape)\n",
    "df.head()"
   ]
  },
  {
   "cell_type": "code",
   "execution_count": null,
   "id": "7a1fa618",
   "metadata": {},
   "outputs": [],
   "source": [
    "# Step 3: Data Exploration\n",
    "print(\"\n",
    "Missing Values:\n",
    "\", df.isnull().sum())\n",
    "print(\"\n",
    "Data Types:\n",
    "\", df.dtypes)\n",
    "print(\"\n",
    "Descriptive Stats:\n",
    "\", df.describe())"
   ]
  },
  {
   "cell_type": "code",
   "execution_count": null,
   "id": "a18288c2",
   "metadata": {},
   "outputs": [],
   "source": [
    "# Step 4: Handle Missing Values\n",
    "df = df.dropna(subset=['price'])  # Drop rows where target is missing\n",
    "df.fillna(method='ffill', inplace=True)  # Forward fill others"
   ]
  },
  {
   "cell_type": "code",
   "execution_count": null,
   "id": "01326369",
   "metadata": {},
   "outputs": [],
   "source": [
    "# Step 5: Feature Selection\n",
    "# Drop ID-like columns or irrelevant ones (assuming column names)\n",
    "df = df.drop(columns=['id', 'name', 'host_name', 'last_review'], errors='ignore')"
   ]
  },
  {
   "cell_type": "code",
   "execution_count": null,
   "id": "64e030ee",
   "metadata": {},
   "outputs": [],
   "source": [
    "# Step 6: Convert price to numeric (if needed)\n",
    "df['price'] = df['price'].replace('[\\$,]', '', regex=True).astype(float)"
   ]
  },
  {
   "cell_type": "code",
   "execution_count": null,
   "id": "9e6963eb",
   "metadata": {},
   "outputs": [],
   "source": [
    "# Step 7: One-hot Encoding for categorical columns\n",
    "categorical_cols = df.select_dtypes(include='object').columns\n",
    "encoded_df = pd.get_dummies(df, columns=categorical_cols, drop_first=True)"
   ]
  },
  {
   "cell_type": "code",
   "execution_count": null,
   "id": "ebcfec29",
   "metadata": {},
   "outputs": [],
   "source": [
    "# Step 8: Train-test Split\n",
    "X = encoded_df.drop('price', axis=1)\n",
    "y = encoded_df['price']\n",
    "X_train, X_test, y_train, y_test = train_test_split(X, y, test_size=0.2, random_state=42)"
   ]
  },
  {
   "cell_type": "code",
   "execution_count": null,
   "id": "bc73ea9a",
   "metadata": {},
   "outputs": [],
   "source": [
    "# Step 9: Model Training - Linear Regression\n",
    "lr = LinearRegression()\n",
    "lr.fit(X_train, y_train)\n",
    "y_pred_lr = lr.predict(X_test)"
   ]
  },
  {
   "cell_type": "code",
   "execution_count": null,
   "id": "99d55d52",
   "metadata": {},
   "outputs": [],
   "source": [
    "# Step 10: Model Evaluation - Linear Regression\n",
    "print(\"\n",
    "Linear Regression:\")\n",
    "print(\"MAE:\", mean_absolute_error(y_test, y_pred_lr))\n",
    "print(\"RMSE:\", np.sqrt(mean_squared_error(y_test, y_pred_lr)))\n",
    "print(\"R2 Score:\", r2_score(y_test, y_pred_lr))"
   ]
  },
  {
   "cell_type": "code",
   "execution_count": null,
   "id": "c47db973",
   "metadata": {},
   "outputs": [],
   "source": [
    "# Step 11: Model Training - Random Forest\n",
    "rf = RandomForestRegressor(random_state=42)\n",
    "rf.fit(X_train, y_train)\n",
    "y_pred_rf = rf.predict(X_test)"
   ]
  },
  {
   "cell_type": "code",
   "execution_count": null,
   "id": "fdb1339c",
   "metadata": {},
   "outputs": [],
   "source": [
    "# Step 12: Model Evaluation - Random Forest\n",
    "print(\"\n",
    "Random Forest:\")\n",
    "print(\"MAE:\", mean_absolute_error(y_test, y_pred_rf))\n",
    "print(\"RMSE:\", np.sqrt(mean_squared_error(y_test, y_pred_rf)))\n",
    "print(\"R2 Score:\", r2_score(y_test, y_pred_rf))"
   ]
  },
  {
   "cell_type": "code",
   "execution_count": null,
   "id": "e050ad48",
   "metadata": {},
   "outputs": [],
   "source": [
    "# Step 13: Feature Importance\n",
    "importances = pd.Series(rf.feature_importances_, index=X.columns)\n",
    "importances.nlargest(10).plot(kind='barh')\n",
    "plt.title('Top 10 Important Features')\n",
    "plt.show()\n"
   ]
  }
 ],
 "metadata": {},
 "nbformat": 4,
 "nbformat_minor": 5
}
